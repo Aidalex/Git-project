{
 "cells": [
  {
   "cell_type": "raw",
   "id": "598b382d-1a3b-4d9a-831d-41037480270a",
   "metadata": {},
   "source": [
    "# con funzione"
   ]
  },
  {
   "cell_type": "code",
   "execution_count": 100,
   "id": "c5378377-da73-4e4e-b191-4b3920436456",
   "metadata": {},
   "outputs": [
    {
     "name": "stdout",
     "output_type": "stream",
     "text": [
      " AIDA   SQUADRITO\n",
      "AIDA ALEXANDRA SQUADRITO\n"
     ]
    }
   ],
   "source": [
    "def nome_utente_1 (nome, cognome):\n",
    "    risultato =  nome + \" \" + cognome\n",
    "    return risultato\n",
    "nome = \" Aida  \"\n",
    "cognome = \"Squadrito\"\n",
    "\n",
    "print(nome_utente_1(nome, cognome).upper())\n",
    "nome = \"  Aida Alexandra\"                    # si è sovrascritto.\n",
    "print(nome_utente_1(nome, cognome).strip().upper())\n",
    "\n"
   ]
  },
  {
   "cell_type": "code",
   "execution_count": 102,
   "id": "c61e8f58-4748-496b-b799-12ab6f3415a4",
   "metadata": {},
   "outputs": [
    {
     "name": "stdout",
     "output_type": "stream",
     "text": [
      "Il nome dell'utente è: Aida Squadrito\n",
      "IL NOME DELL'UTENTE È: SOFIA PESCI\n"
     ]
    }
   ],
   "source": [
    "def benvenuto(nome_1, cognome_1):\n",
    "    risultato =  \"Il nome dell'utente è: \" + nome_1 + \" \" + cognome_1\n",
    "    return risultato\n",
    "\n",
    "print(benvenuto(\"Aida\", \"Squadrito\"))\n",
    "print(benvenuto(\"Sofia\", \"Pesci\").strip().upper())"
   ]
  },
  {
   "cell_type": "code",
   "execution_count": 92,
   "id": "567750cc-ec3e-470a-8267-8e03f2fd3f07",
   "metadata": {},
   "outputs": [
    {
     "name": "stdout",
     "output_type": "stream",
     "text": [
      "Ciao, sono Anna, piacere di conoscerti!\n"
     ]
    }
   ],
   "source": [
    "# esempio di funzione.\n",
    "def introduzione(nome):\n",
    "    return f\"Ciao, sono {nome}, piacere di conoscerti!\"\n",
    "\n",
    "messaggio = introduzione(\"Anna\")\n",
    "print(messaggio)"
   ]
  },
  {
   "cell_type": "code",
   "execution_count": null,
   "id": "f42b5ec4-ea1d-4866-941e-8619e7354cef",
   "metadata": {},
   "outputs": [],
   "source": []
  }
 ],
 "metadata": {
  "kernelspec": {
   "display_name": "Python [conda env:base] *",
   "language": "python",
   "name": "conda-base-py"
  },
  "language_info": {
   "codemirror_mode": {
    "name": "ipython",
    "version": 3
   },
   "file_extension": ".py",
   "mimetype": "text/x-python",
   "name": "python",
   "nbconvert_exporter": "python",
   "pygments_lexer": "ipython3",
   "version": "3.12.7"
  }
 },
 "nbformat": 4,
 "nbformat_minor": 5
}
