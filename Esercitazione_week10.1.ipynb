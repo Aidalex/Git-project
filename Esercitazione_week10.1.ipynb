{
 "cells": [
  {
   "cell_type": "code",
   "execution_count": 146,
   "id": "535a090e-0861-452f-811a-9d8216c2e6a5",
   "metadata": {},
   "outputs": [
    {
     "name": "stdout",
     "output_type": "stream",
     "text": [
      "[15 18 21 24 27]\n",
      "\n",
      "La matrice è:\n",
      "    Colonna 1  Colonna 2  Colonna 3\n",
      "a          0          5         10\n",
      "b          1          6         11\n",
      "c          2          7         12\n",
      "d          3          8         13\n",
      "e          4          9         14\n",
      "\n",
      "Delle ultime 3 righe:\n",
      "c    7\n",
      "d    8\n",
      "e    9\n",
      "Name: Colonna 2, dtype: int64\n",
      "Il valore della prima colonna alla riga 'c':\n",
      "2\n"
     ]
    }
   ],
   "source": [
    "# LIBRERIE\n",
    "# 1.  Liste:  --> potrebbe essere una matrice, però prima devo trasformare le liste in ARRAY.\n",
    "\n",
    "mat = [[0, 1, 2, 3, 4], [5, 6, 7, 8, 9], [10, 11, 12, 13, 14]]\n",
    "\n",
    "import numpy as np\n",
    "\n",
    "array_1 = np.array(mat[0])         # estraggo la lista grazie all'indice.\n",
    "array_2 = np.array(mat[1])\n",
    "array_3 = np.array(mat[2])\n",
    "\n",
    "somma_array = array_1 + array_2  + array_3\n",
    "print(somma_array)\n",
    "\n",
    "mat_dataframe = pd.DataFrame({\"Colonna 1\":[0, 1, 2, 3, 4], \"Colonna 2\":[5, 6, 7, 8, 9], \"Colonna 3\":[10, 11, 12, 13, 14]}, index = list(\"abcde\"))\n",
    "print(\"\\nLa matrice è:\\n\", mat_dataframe)\n",
    "\n",
    "print(\"\\nDelle ultime 3 righe:\")\n",
    "print(mat_dataframe.loc[\"c\":\"e\" , \"Colonna 2\"])         # label-based\n",
    "print(\"Il valore della prima colonna alla riga 'c':\")\n",
    "print(mat_dataframe.iloc[-3 , 0])                       # position-based\n"
   ]
  },
  {
   "cell_type": "code",
   "execution_count": 21,
   "id": "ae39f130-3c95-4136-84b8-75bfaf8c8484",
   "metadata": {},
   "outputs": [
    {
     "name": "stdout",
     "output_type": "stream",
     "text": [
      "Il seno di 1.0471975511965976 è 0.8660254037844386\n",
      "Il coseno di 1.0471975511965976 è 0.5000000000000001\n",
      "Il fattoriale di 60 è 8320987112741390144276341183223364380754172606361245952449277696409600000000000000\n",
      "Il pi_greco è 3.141592653589793\n"
     ]
    }
   ],
   "source": [
    "# 2.  Importiamo il modulo math e proviamo a usare le funzioni .sin() .cos() .factorial()\n",
    "\n",
    "import math\n",
    "\n",
    "numero = 60\n",
    "numero_radianti = math.radians(numero)     ##\n",
    "\n",
    "seno = math.sin(numero_radiante)\n",
    "coseno = math.cos(numero_radiante)\n",
    "fattoriale = math.factorial(numero)\n",
    "pi = math.pi          # non ci vogliono le ().\n",
    "\n",
    "print(f\"Il seno di {numero_radianti} è {seno}\")\n",
    "print(f\"Il coseno di {numero_radianti} è {coseno}\")\n",
    "print(f\"Il fattoriale di {numero} è {fattoriale}\")\n",
    "print(f\"Il pi_greco è {pi}\")\n"
   ]
  },
  {
   "cell_type": "code",
   "execution_count": 25,
   "id": "52bd192d-ec6c-458a-84a0-8ef906a55c6f",
   "metadata": {},
   "outputs": [
    {
     "name": "stdout",
     "output_type": "stream",
     "text": [
      "Help on built-in function degrees in module math:\n",
      "\n",
      "degrees(x, /)\n",
      "    Convert angle x from radians to degrees.\n",
      "\n"
     ]
    },
    {
     "data": {
      "text/plain": [
       "180.0"
      ]
     },
     "execution_count": 25,
     "metadata": {},
     "output_type": "execute_result"
    }
   ],
   "source": [
    "# 3. \n",
    "\n",
    "help(math.degrees)      # math.degrees  è una 'built-in' degrees(x, /)  ->  Convert angle x from radians to degrees.\n",
    "\n",
    "math.degrees(math.pi)   # pi in gradi\n"
   ]
  },
  {
   "cell_type": "code",
   "execution_count": 131,
   "id": "859b6ce3-526f-46bf-930c-5536fc2a88e7",
   "metadata": {},
   "outputs": [
    {
     "name": "stdout",
     "output_type": "stream",
     "text": [
      "Gen    2000\n",
      "Feb    5500\n",
      "Mar    7200\n",
      "Apr    4320\n",
      "Mag    1280\n",
      "Giu    1900\n",
      "Lug    2500\n",
      "Ago    3900\n",
      "Set    6410\n",
      "Ott    8150\n",
      "Nov    7100\n",
      "Dic    5350\n",
      "dtype: int64\n",
      "              0\n",
      "Gennaio    2000\n",
      "Febbraio   5500\n",
      "Marzo      7200\n",
      "Aprile     4320\n",
      "Maggio     1280\n",
      "Giugno     1900\n",
      "Luglio     2500\n",
      "Agosto     3900\n",
      "Settembre  6410\n",
      "Ottobre    8150\n",
      "Novembre   7100\n",
      "Dicembre   5350\n",
      "\n",
      "La vendita massima è: 8150\n",
      "La vendita minima è: 1280\n",
      "\n",
      "MASKING: Valore booleano del array (con condizione):\n",
      " [False  True  True False False False False False  True  True  True  True]\n",
      "\n",
      "MASKING: (restituisce solo i valori T) Le vendite maggiori di 4999 sono: [5500 7200 6410 8150 7100 5350]\n",
      "\n",
      "Il numero di mesi con vendite maggiori sono: 6\n",
      "le vendite minori di 3000 sono: [2000 1280 1900 2500]\n",
      "La media venduta è di: 4634.17\n"
     ]
    }
   ],
   "source": [
    "# 4. L'azienda Object SpA ha creato una lista di quanti oggetti ha venduto ogni mese nell'ultimo anno: lst = [2000, 5500, 7200, 4320, 1280, 1900, 2500, 3900, 6410, 8150, 7100, 5350] \n",
    "#    rispondiamo alle domande del CEO della Object SpA: • qual è stata la vendita massima mensile? E quella minima? \n",
    "#   • quali sono le vendite mensili maggiori di 4999 oggetti? E quante ne sono? • quali sono le vendite minori di 3000 oggetti? • in media quanti oggetti sono stati venduti al mese?\n",
    "\n",
    "lst = [2000, 5500, 7200, 4320, 1280, 1900, 2500, 3900, 6410, 8150, 7100, 5350]\n",
    "\n",
    "lst = np.array(lst)               # casting  --> trasformiamo in array\n",
    "\n",
    "import pandas as pd\n",
    "\n",
    "vendite_series = pd.Series(lst, index = [\"Gen\", \"Feb\", \"Mar\", \"Apr\", \"Mag\", \"Giu\", \"Lug\", \"Ago\", \"Set\", \"Ott\", \"Nov\", \"Dic\"])\n",
    "print(vendite_series)\n",
    "\n",
    "vendite = pd.DataFrame(lst, index = [\"Gennaio\", \"Febbraio\", \"Marzo\", \"Aprile\", \"Maggio\", \"Giugno\", \"Luglio\", \"Agosto\", \"Settembre\", \"Ottobre\", \"Novembre\", \"Dicembre\"])\n",
    "print(vendite)\n",
    "\n",
    "vendita_max = lst.max()\n",
    "vendita_min = lst.min()\n",
    "print(\"\\nLa vendita massima è:\", vendita_max)\n",
    "print(\"La vendita minima è:\", vendita_min)\n",
    "\n",
    "vendite_maggiori = lst > 4999     # masking --> devo dare una condizione  (mandata da sola restiuisce valori booleani).\n",
    "print(\"\\nMASKING: Valore booleano del array (con condizione):\\n\", lst > 4999)  \n",
    "print(\"\\nMASKING: (restituisce solo i valori T) Le vendite maggiori di 4999 sono:\", lst[lst > 4999])    # chiedo in gli indici (i suoi valori) con condizione T, della array.\n",
    "\n",
    "print(\"\\nIl numero di mesi con vendite maggiori sono:\", np.sum(vendite_maggiori))      # calcola i T (campo boolenao) (riprendo la variabile) --> e li somma.\n",
    "\n",
    "vendite_minori = lst < 3000        \n",
    "print(\"le vendite minori di 3000 sono:\", lst[vendite_minori])\n",
    "\n",
    "media_venduta = round(lst.mean(),2)    # arrotondiamo!!\n",
    "print(\"La media venduta è di:\", media_venduta)\n"
   ]
  },
  {
   "cell_type": "code",
   "execution_count": 122,
   "id": "b5ae915d-d5ac-4ccc-bffb-60bd02a60725",
   "metadata": {},
   "outputs": [
    {
     "name": "stdout",
     "output_type": "stream",
     "text": [
      "Con step:\n",
      " 1997    12000\n",
      "1999    15000\n",
      "2001    20000\n",
      "2003    23000\n",
      "2005    25000\n",
      "2007    17000\n",
      "2009    14000\n",
      "2011    21000\n",
      "dtype: int64\n",
      "\n",
      "Tabella Dataframe:\n",
      "       Fatturato\n",
      "1997      12000\n",
      "1998      15000\n",
      "1999      20000\n",
      "2000      23000\n",
      "2001      25000\n",
      "2002      17000\n",
      "2003      14000\n",
      "2004      21000\n",
      "{1997: 12000, 1998: 15000, 1999: 20000, 2000: 23000, 2001: 25000, 2002: 17000, 2003: 14000, 2004: 21000}\n",
      "1997    12000\n",
      "1999    15000\n",
      "2001    20000\n",
      "2003    23000\n",
      "2005    25000\n",
      "2007    17000\n",
      "2009    14000\n",
      "2011    21000\n",
      "dtype: int64\n",
      "12000\n",
      "12000\n"
     ]
    }
   ],
   "source": [
    "# 5. Consideriamo il seguente dizionario.   Dunque qual è la differenza tra i due tipi di dato?\n",
    "#    Cosa potremmo fare con la Series che non possiamo fare con il dizionario?\n",
    "\n",
    "fatturati_dict = {1997: 12_000, 1998: 15_000, 1999: 20_000, 2000: 23_000, 2001: 25_000, 2002: 17_000, 2003: 14_000, 2004: 21_000}    # Dizionario\n",
    "\n",
    "fatturati_series = pd.Series([12_000, 15_000, 20_000, 23_000, 25_000, 17_000, 14_000, 21_000], index=range(1997, 2012, 2))   # Serie\n",
    "print(\"Con step:\\n\",fatturati_series)\n",
    "\n",
    "fatturato = {\"Fatturato\":[12_000, 15_000, 20_000, 23_000, 25_000, 17_000, 14_000, 21_000]}    # Ho crato un Dizionario\n",
    "tabella = pd.DataFrame(fatturato, index =range(1997, 2005))                                   # il \n",
    "\n",
    "print(\"\\nTabella Dataframe:\\n\", tabella)\n",
    "\n",
    "#  Possiamo accedere alle stesse informazioni nello stesso modo: \n",
    "print(fatturati_dict)     # restiuisce su una sola riga 'chiave:valore';\n",
    "print(fatturati_series)   # gli indici sono le righe con i rispettivi valori.\n",
    "\n",
    "# La visualizzazione di un singolo elemento è uguale\n",
    "print(fatturati_dict[1997])    \n",
    "print(fatturati_series[1997])\n",
    "\n",
    "\n"
   ]
  },
  {
   "cell_type": "code",
   "execution_count": 65,
   "id": "a16ed4ae-c6be-4b00-b13e-cb1987850970",
   "metadata": {},
   "outputs": [
    {
     "name": "stdout",
     "output_type": "stream",
     "text": [
      "La nuova 'lista' con FOR è: [200, 400, 600, 800, 1000, 1200, 1400, 1600, 1800, 2000]\n",
      "La nuova 'lista' con FOR e IF è: [1000, 1200, 1400, 1600, 1800, 2000]\n",
      "Il nuovo 'arrey' è: [ 200  400  600  800 1000 1200 1400 1600 1800 2000]\n"
     ]
    }
   ],
   "source": [
    "# 6. L'azienda Object SpA ha un dataset con tutti gli stipendi dei dipendenti, memorizzato in un ndarray:\n",
    "\n",
    "stipendi = np.array( [100, 200, 300, 400, 500,  600, 700, 800, 900, 1000] )\n",
    "\n",
    "#  L'azienda ci chiede di raddoppiare tutti gli stipendi; facciamolo in due modi: • con un ciclo for 7 • con il masking.\n",
    "\n",
    "stipendi_nuovi = [stipendio * 2 for stipendio in stipendi]      # con un for devo crearmi una lista nuova vuota []. 'comprehension'\n",
    "print(\"La nuova 'lista' con FOR è:\", stipendi_nuovi)\n",
    "\n",
    "stipendi_nuovi_aggiornati = [stipendio*2 for stipendio in stipendi if stipendio >= 500]\n",
    "print(\"La nuova 'lista' con FOR e IF è:\", stipendi_nuovi_aggiornati)\n",
    "\n",
    "\n",
    "arrey_stipendi_aggiornati = stipendi*2                          # ho creato un altro array.  Masking\n",
    "print(\"Il nuovo 'arrey' è:\", arrey_stipendi_aggiornati)"
   ]
  },
  {
   "cell_type": "code",
   "execution_count": null,
   "id": "a0eb52bf-7e7b-4e3a-a14d-71cf7bf6b45e",
   "metadata": {},
   "outputs": [],
   "source": []
  }
 ],
 "metadata": {
  "kernelspec": {
   "display_name": "Python [conda env:base] *",
   "language": "python",
   "name": "conda-base-py"
  },
  "language_info": {
   "codemirror_mode": {
    "name": "ipython",
    "version": 3
   },
   "file_extension": ".py",
   "mimetype": "text/x-python",
   "name": "python",
   "nbconvert_exporter": "python",
   "pygments_lexer": "ipython3",
   "version": "3.12.7"
  }
 },
 "nbformat": 4,
 "nbformat_minor": 5
}
