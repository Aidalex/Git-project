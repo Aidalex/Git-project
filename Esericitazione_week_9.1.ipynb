{
 "cells": [
  {
   "cell_type": "code",
   "execution_count": 57,
   "id": "0384bc4a-f5bb-4370-9db7-aad75858d95a",
   "metadata": {},
   "outputs": [
    {
     "name": "stdout",
     "output_type": "stream",
     "text": [
      "\n",
      "Gli studenti sono: 25\n",
      "\n",
      "Gli studenti sono aumentati, ad oggi ce ne sono: 28\n",
      "Gli studenti sono aumentati, ad oggi ce ne sono: 28 del corso Epicode\n"
     ]
    },
    {
     "data": {
      "text/plain": [
       "int"
      ]
     },
     "execution_count": 57,
     "metadata": {},
     "output_type": "execute_result"
    }
   ],
   "source": [
    "# Es.1 Introduzione di variabili\n",
    "studenti = 25\n",
    "print(\"\\nGli studenti sono:\", studenti)\n",
    "nuovi_studenti = 3\n",
    "totale_studenti = studenti + nuovi_studenti\n",
    "\n",
    "print(\"\\nGli studenti sono aumentati, ad oggi ce ne sono:\", studenti + nuovi_studenti)\n",
    "print(\"Gli studenti sono aumentati, ad oggi ce ne sono:\", totale_studenti, \"del corso Epicode\")\n",
    "type(studenti)"
   ]
  },
  {
   "cell_type": "code",
   "execution_count": 62,
   "id": "e723e618-985b-4942-ab2e-3d4bc31f203f",
   "metadata": {},
   "outputs": [
    {
     "name": "stdout",
     "output_type": "stream",
     "text": [
      "12\n",
      "36\n",
      "12\n"
     ]
    }
   ],
   "source": [
    "# Es.2 Somma e moltiplicazione\n",
    "x = 10\n",
    "y = 2\n",
    "print(x + y)\n",
    "print((x + y) * 3)\n",
    "\n",
    "def somma(x,y):\n",
    "    risultato = x + y\n",
    "    return risultato   # si aggiunge la riga per restituire il risultato.\n",
    "print(somma(x,y))"
   ]
  },
  {
   "cell_type": "code",
   "execution_count": 50,
   "id": "115eff15-0e64-424a-ac32-2323958fe32e",
   "metadata": {},
   "outputs": [
    {
     "name": "stdout",
     "output_type": "stream",
     "text": [
      "7\n",
      "True\n",
      "True\n",
      "False\n",
      "False\n"
     ]
    }
   ],
   "source": [
    "# Es.3 \n",
    "str_1 = \"Windows\"\n",
    "str_2 = \"Excel\"\n",
    "str_3 = \"Powerpoint\"\n",
    "str_4 = \"Word\"\n",
    "\n",
    "print(len(str_1))\n",
    "\n",
    "str_1_tra = 5 <= len(str_1) <=8\n",
    "str_2_tra = 5 <= len(str_2) <=8\n",
    "str_3_tra = 5 <= len(str_3) <=8\n",
    "str_4_tra = 5 <= len(str_4) <=8\n",
    "\n",
    "print(str_1_tra)\n",
    "print(str_2_tra)\n",
    "print(str_3_tra)\n",
    "print(str_4_tra)"
   ]
  },
  {
   "cell_type": "code",
   "execution_count": 11,
   "id": "35e8826d-00b4-4ea5-8d9b-a29227d8329b",
   "metadata": {},
   "outputs": [
    {
     "name": "stdout",
     "output_type": "stream",
     "text": [
      "\n",
      "I secondi che ci sono in un anno non bisestile sono:  31536000\n"
     ]
    }
   ],
   "source": [
    "# Es.4 Calcolo dei secondi in un anno bisestile.\n",
    "secondi_minuto = 60\n",
    "minuti_ora = 60\n",
    "ore_giorno = 24 \n",
    "giorni_anno = 365\n",
    "\n",
    "secondi_anno = secondi_minuto*minuti_ora*ore_giorno*giorni_anno\n",
    "print(\"\\nI secondi che ci sono in un anno non bisestile sono: \", secondi_anno)"
   ]
  },
  {
   "cell_type": "code",
   "execution_count": 87,
   "id": "9bf5f90d-846c-4f7d-aec0-629a0e884f4c",
   "metadata": {},
   "outputs": [
    {
     "name": "stdout",
     "output_type": "stream",
     "text": [
      "I AM STUDYING PYTHON\n",
      "i am studying python\n",
      "I am studying a lot\n",
      "I am studying Python\n"
     ]
    }
   ],
   "source": [
    "# Es.5 my_string = \"I am studying Python\"\n",
    "\n",
    "my_string = \"I am studying Python\"\n",
    "\n",
    "print(my_string.upper())\n",
    "print(my_string.lower())\n",
    "print(my_string.replace(\"Python\", \"a lot\"))\n",
    "print(my_string.strip())"
   ]
  },
  {
   "cell_type": "code",
   "execution_count": 27,
   "id": "ba9fc5d6-d91d-41fa-b0d2-4ae84b51b3a7",
   "metadata": {},
   "outputs": [
    {
     "name": "stdout",
     "output_type": "stream",
     "text": [
      "\n",
      "Inserisci la tua età: \n"
     ]
    },
    {
     "name": "stdin",
     "output_type": "stream",
     "text": [
      " 27\n"
     ]
    }
   ],
   "source": [
    "# input\n",
    "\n",
    "print(\"\\nInserisci la tua età: \"), eta_aida\n",
    "eta_aida = input()"
   ]
  },
  {
   "cell_type": "code",
   "execution_count": 69,
   "id": "488898f3-a93d-4c0b-af08-a522ed594d17",
   "metadata": {},
   "outputs": [],
   "source": [
    "studenti_classe = 25"
   ]
  },
  {
   "cell_type": "code",
   "execution_count": 71,
   "id": "72ab20f8-9ad3-4d62-a144-79cd5c37c44c",
   "metadata": {},
   "outputs": [],
   "source": [
    "nuovi_studenti_classe = 4"
   ]
  },
  {
   "cell_type": "code",
   "execution_count": 75,
   "id": "bd2c36b8-a523-467a-9b9d-05df096baa6b",
   "metadata": {},
   "outputs": [],
   "source": [
    "totale_studenti_classe = studenti_classe + nuovi_studenti_classe"
   ]
  },
  {
   "cell_type": "code",
   "execution_count": 77,
   "id": "c935bcc2-e334-41ad-ba62-76650ce1be90",
   "metadata": {},
   "outputs": [
    {
     "name": "stdout",
     "output_type": "stream",
     "text": [
      "29\n"
     ]
    }
   ],
   "source": [
    "print(totale_studenti_classe)"
   ]
  },
  {
   "cell_type": "code",
   "execution_count": null,
   "id": "46658692-46eb-4a81-9d7c-2dcabea23adc",
   "metadata": {},
   "outputs": [],
   "source": [
    "# Prova per la sovrascrizione di una variabile"
   ]
  },
  {
   "cell_type": "code",
   "execution_count": 103,
   "id": "19bf27fb-84ab-4e6e-a46a-4e2be2cd08ab",
   "metadata": {},
   "outputs": [],
   "source": [
    "nome = \" Aida  \"\n",
    "cognome = \"Squadrito\"\n",
    "nome_completo = nome + \" \" + cognome"
   ]
  },
  {
   "cell_type": "code",
   "execution_count": 105,
   "id": "92e00d36-4d9d-4ecc-a480-04450a0bf7d1",
   "metadata": {},
   "outputs": [
    {
     "name": "stdout",
     "output_type": "stream",
     "text": [
      " AIDA   SQUADRITO\n"
     ]
    }
   ],
   "source": [
    "print(nome_completo.upper())"
   ]
  },
  {
   "cell_type": "code",
   "execution_count": 111,
   "id": "511d5e68-3a42-464d-ab8a-ea44af3dabeb",
   "metadata": {},
   "outputs": [
    {
     "name": "stdout",
     "output_type": "stream",
     "text": [
      "Aida\n"
     ]
    }
   ],
   "source": [
    "nome = (nome.strip())\n",
    "print(nome)"
   ]
  },
  {
   "cell_type": "code",
   "execution_count": 171,
   "id": "151787e3-50f6-4a19-aec6-4e3b22e3c4ee",
   "metadata": {},
   "outputs": [
    {
     "name": "stdout",
     "output_type": "stream",
     "text": [
      "Aida Alexandra Squadrito\n"
     ]
    }
   ],
   "source": [
    "nome = (nome.strip())\n",
    "\n",
    "print(nome_completo)      # non ho dovuto aggiungere l'operazione per 'nome_completo'"
   ]
  },
  {
   "cell_type": "code",
   "execution_count": 119,
   "id": "eb9e43ff-6535-44af-b9f3-2a92fde6c446",
   "metadata": {},
   "outputs": [
    {
     "name": "stdout",
     "output_type": "stream",
     "text": [
      "Aida Alexandra\n",
      "Aida Squadrito\n"
     ]
    }
   ],
   "source": [
    "nome = \"Aida Alexandra\"\n",
    "print(nome)\n",
    "print(nome_completo)"
   ]
  },
  {
   "cell_type": "code",
   "execution_count": 123,
   "id": "c30460b9-c631-41bb-aadb-35532af775d2",
   "metadata": {},
   "outputs": [
    {
     "name": "stdout",
     "output_type": "stream",
     "text": [
      "Aida Alexandra Squadrito\n"
     ]
    }
   ],
   "source": [
    "nome_completo = nome + \" \" + cognome     # ho dovuto richiamare l'operazione della variabile composta\n",
    "print(nome_completo)"
   ]
  }
 ],
 "metadata": {
  "kernelspec": {
   "display_name": "Python [conda env:base] *",
   "language": "python",
   "name": "conda-base-py"
  },
  "language_info": {
   "codemirror_mode": {
    "name": "ipython",
    "version": 3
   },
   "file_extension": ".py",
   "mimetype": "text/x-python",
   "name": "python",
   "nbconvert_exporter": "python",
   "pygments_lexer": "ipython3",
   "version": "3.12.7"
  }
 },
 "nbformat": 4,
 "nbformat_minor": 5
}
