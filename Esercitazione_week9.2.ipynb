{
 "cells": [
  {
   "cell_type": "code",
   "execution_count": 27,
   "id": "c6e16935-5fdd-40b2-ba39-591fb3b4b0d3",
   "metadata": {},
   "outputs": [
    {
     "name": "stdout",
     "output_type": "stream",
     "text": [
      "Lettera: E\n",
      "Lettera: p\n",
      "Lettera: i\n",
      "Lettera: c\n",
      "Lettera: o\n",
      "Lettera: d\n",
      "Lettera: e\n"
     ]
    }
   ],
   "source": [
    "# 1. Stampare ogni carattere della stringa. Con WHILE\n",
    "\n",
    "\n",
    "nome_scuola = \"Epicode\"        # NON so quanto è lunga la stringa.\n",
    "\n",
    "contatore = 0                  # Inizializzazione --> parte da 0 (= 'indice').\n",
    "lunghezza = len(nome_scuola)   # CONDIZIONE di inizializzazione (dove deve finire). --> 7 caratteri.\n",
    "\n",
    "while contatore < lunghezza:    # Condizione - finchè arrivi alla 'lunghezza' -> sono 6 'indici'.\n",
    "    carattere = nome_scuola[contatore]\n",
    "    print(\"Lettera:\", carattere)\n",
    "    contatore += 1\n"
   ]
  },
  {
   "cell_type": "code",
   "execution_count": 48,
   "id": "fb168ed8-c829-4ab3-bfb0-d39b3e73eeee",
   "metadata": {},
   "outputs": [
    {
     "name": "stdout",
     "output_type": "stream",
     "text": [
      "[0, 1, 2, 3, 4, 5, 6, 7, 8, 9, 10, 11, 12, 13, 14, 15, 16, 17, 18, 19, 20]\n"
     ]
    }
   ],
   "source": [
    "# 2. Stampare a video tutti i numeri da 0 a 20 utilizzando il costrutto WHILE.\n",
    "\n",
    "contatore = 0\n",
    "lista_numeri = []\n",
    "\n",
    "while contatore <= 20:    \n",
    "    numero = contatore                # 0\n",
    "    lista_numeri.append(contatore)    # lista_numeri = [0, 1, ... ]\n",
    "\n",
    "    contatore += 1 \n",
    "   \n",
    "print(lista_numeri)\n",
    "\n"
   ]
  },
  {
   "cell_type": "markdown",
   "id": "9613ca29-5f94-4082-9977-c3aad6c7d03b",
   "metadata": {},
   "source": [
    "## Altra opzione \n",
    "numero = 0\n",
    "\n",
    "while numero <=20:\n",
    "    print(\"Numero\", numero)\n",
    "    numero += 1 "
   ]
  },
  {
   "cell_type": "code",
   "execution_count": 78,
   "id": "f5dab054-0b7c-4f24-9b07-386ad602ffee",
   "metadata": {},
   "outputs": [
    {
     "name": "stdout",
     "output_type": "stream",
     "text": [
      "La potenza di 2^0 è: 1\n",
      "La potenza di 2^1 è: 2\n",
      "La potenza di 2^2 è: 4\n",
      "La potenza di 2^3 è: 8\n",
      "La potenza di 2^4 è: 16\n",
      "La potenza di 2^5 è: 32\n",
      "La potenza di 2^6 è: 64\n",
      "La potenza di 2^7 è: 128\n",
      "La potenza di 2^8 è: 256\n",
      "La potenza di 2^9 è: 512\n",
      "La potenza di 2^10 è: 1024\n"
     ]
    }
   ],
   "source": [
    "# 3. Le prime 10 potenze di 2 --> WHILE\n",
    "\n",
    "numero = 2\n",
    "esponente = 0\n",
    "\n",
    "while esponente <= 10:\n",
    "    numero_esponente = numero**esponente\n",
    "    print(f\"La potenza di {numero}^{esponente} è: {numero_esponente}\")\n",
    "    esponente += 1 "
   ]
  },
  {
   "cell_type": "code",
   "execution_count": 87,
   "id": "7bc4e26f-dc7f-44d6-bd9b-9f0cf31678fc",
   "metadata": {},
   "outputs": [
    {
     "name": "stdin",
     "output_type": "stream",
     "text": [
      "Inserisci un esponente 5\n"
     ]
    },
    {
     "name": "stdout",
     "output_type": "stream",
     "text": [
      "La potenza di 2^0 è: 1\n",
      "La potenza di 2^1 è: 2\n",
      "La potenza di 2^2 è: 4\n",
      "La potenza di 2^3 è: 8\n",
      "La potenza di 2^4 è: 16\n",
      "La potenza di 2^5 è: 32\n"
     ]
    }
   ],
   "source": [
    "# 4. Calcolare e stampare tutte le prime N potenze di 2 utilizzando un ciclo while, \n",
    "#    domandando all'utente di inserire N.\n",
    "\n",
    "numero = 2 \n",
    "N = int(input(\"Inserisci un esponente\"))              # esponente\n",
    "esponente = 0\n",
    "\n",
    "while esponente <= N:\n",
    "    potenza = numero**esponente\n",
    "    print(f\"La potenza di {numero}^{esponente} è: {potenza}\")\n",
    "    esponente += 1 "
   ]
  },
  {
   "cell_type": "code",
   "execution_count": 232,
   "id": "39037d50-e9a7-4819-958f-53a35c059f7a",
   "metadata": {},
   "outputs": [
    {
     "name": "stdout",
     "output_type": "stream",
     "text": [
      "La potenza di 2^0 è: 1\n",
      "La potenza di 2^1 è: 2\n",
      "La potenza di 2^2 è: 4\n",
      "La potenza di 2^3 è: 8\n",
      "La potenza di 2^4 è: 16\n",
      "La potenza di 2^5 è: 32\n",
      "La potenza di 2^6 è: 64\n",
      "La potenza di 2^7 è: 128\n",
      "La potenza di 2^8 è: 256\n",
      "La potenza di 2^9 è: 512\n",
      "La potenza di 2^10 è: 1024\n",
      "La potenza di 2^11 è: 2048\n",
      "La potenza di 2^12 è: 4096\n",
      "La potenza di 2^13 è: 8192\n",
      "La potenza di 2^14 è: 16384\n"
     ]
    }
   ],
   "source": [
    "#5. Esercizio Calcolare e stampare tutte le potenze di 2 minori di 25000.\n",
    "\n",
    "esponente = 0\n",
    "potenza = numero**esponente\n",
    "numero = 2\n",
    "\n",
    "while potenza < 25000:     \n",
    "    potenza = numero**esponente      \n",
    "    print(f\"La potenza di {numero}^{esponente} è: {potenza}\")\n",
    "    esponente += 1\n",
    "    potenza = numero**esponente\n",
    "    "
   ]
  },
  {
   "cell_type": "code",
   "execution_count": 234,
   "id": "644ecd12-af8c-453a-b62e-61b26ba32ebf",
   "metadata": {},
   "outputs": [
    {
     "name": "stdout",
     "output_type": "stream",
     "text": [
      "\n",
      "Le due liste hanno la stessa lunghezza: numeri di elementi\n",
      "La lista degli studenti è: ['Alex', 'Bob', 'Cindy', 'Dan', 'Emma', 'Faith', 'Grace', 'Henry']\n",
      "La lista dei corsi è: ['Cybersecurity', 'Data Analyst', 'Backend', 'Frontend', 'Data Analyst', 'Backend', 'Frontend', 'Cybersecurity']\n",
      "Lo studente: Alex è iscritto al corso di Cybersecurity\n",
      "Lo studente: Bob è iscritto al corso di Data Analyst\n",
      "Lo studente: Cindy è iscritto al corso di Backend\n",
      "Lo studente: Dan è iscritto al corso di Frontend\n",
      "Lo studente: Emma è iscritto al corso di Data Analyst\n",
      "Lo studente: Faith è iscritto al corso di Backend\n",
      "Lo studente: Grace è iscritto al corso di Frontend\n",
      "Lo studente: Henry è iscritto al corso di Cybersecurity\n"
     ]
    }
   ],
   "source": [
    "# 6. Da due liste --> verifica la loro lunghezza.\n",
    "\n",
    "studenti = [\"Alex\", \"Bob\", \"Cindy\", \"Dan\", \"Emma\", \"Faith\", \"Grace\", \"Henry\"] \n",
    "corsi = [\"Cybersecurity\", \"Data Analyst\", \"Backend\", \"Frontend\", \"Data Analyst\", \"Backend\"]\n",
    "\n",
    "len(studenti)  \n",
    "len(corsi)\n",
    "\n",
    "corsi.append(\"Frontend\")\n",
    "corsi.append(\"Cybersecurity\")\n",
    "\n",
    "if len(studenti) == len(corsi):\n",
    "    print(\"\\nLe due liste hanno la stessa lunghezza: numeri di elementi\")\n",
    "    print(\"La lista degli studenti è:\", studenti)\n",
    "    print(\"La lista dei corsi è:\", corsi)\n",
    "\n",
    "else: \n",
    "    print(\"Le liste non hanno la stessa lunghezza, controlla se ci sono dati mancanti.\")\n",
    "\n",
    "indice = 0\n",
    "\n",
    "for studente in studenti:\n",
    "    studenti[indice] == corsi[indice]\n",
    "    print(f\"Lo studente: {studenti[indice]} è iscritto al corso di {corsi[indice]}\")\n",
    "    indice +=1 \n",
    "    "
   ]
  },
  {
   "cell_type": "code",
   "execution_count": 115,
   "id": "ac3480d4-5fd2-4225-a939-37f9b27db978",
   "metadata": {},
   "outputs": [
    {
     "name": "stdout",
     "output_type": "stream",
     "text": [
      "8\n",
      "8\n"
     ]
    }
   ],
   "source": [
    "print(len(studenti))\n",
    "print(len(corsi))"
   ]
  },
  {
   "cell_type": "code",
   "execution_count": 142,
   "id": "3c733827-e503-4c56-84dc-4ca3bcb4d5ac",
   "metadata": {},
   "outputs": [
    {
     "name": "stdout",
     "output_type": "stream",
     "text": [
      "Lo studente: Alex è iscritto al corso di Cybersecurity\n",
      "Lo studente: Bob è iscritto al corso di Data Analyst\n",
      "Lo studente: Cindy è iscritto al corso di Backend\n",
      "Lo studente: Dan è iscritto al corso di Frontend\n",
      "Lo studente: Emma è iscritto al corso di Data Analyst\n",
      "Lo studente: Faith è iscritto al corso di Backend\n",
      "Lo studente: Grace è iscritto al corso di Frontend\n",
      "Lo studente: Henry è iscritto al corso di Cybersecurity\n"
     ]
    }
   ],
   "source": [
    "\n",
    "\n",
    "studenti = [\"Alex\", \"Bob\", \"Cindy\", \"Dan\", \"Emma\", \"Faith\", \"Grace\", \"Henry\"] \n",
    "corsi = [\"Cybersecurity\", \"Data Analyst\", \"Backend\", \"Frontend\", \"Data Analyst\", \"Backend\", \"Frontend\", \"Cybersecurity\"]\n",
    "\n",
    "indice = 0\n",
    "\n",
    "for studente in studenti:\n",
    "    studenti[indice] == corsi[indice]\n",
    "    print(f\"Lo studente: {studenti[indice]} è iscritto al corso di {corsi[indice]}\")\n",
    "    indice +=1 \n"
   ]
  },
  {
   "cell_type": "code",
   "execution_count": 236,
   "id": "0b1ca8da-3d2e-4a56-b29a-bf6156557a4b",
   "metadata": {},
   "outputs": [
    {
     "name": "stdout",
     "output_type": "stream",
     "text": [
      "I corsi della scuola sono: {'Frontend', 'Data Analyst', 'Web Developer', 'Cybersecurity', 'Backend'}\n"
     ]
    }
   ],
   "source": [
    "corsi = [\"Cybersecurity\", \"Data Analyst\", \"Backend\", \"Frontend\", \"Data Analyst\", \"Backend\"]\n",
    "\n",
    "corsi_scuola = {\"Cybersecurity\", \"Data Analyst\", \"Backend\", \"Frontend\", \"Data Analyst\", \"Backend\"}\n",
    "\n",
    "corsi_scuola.add(\"Web Developer\")\n",
    "print(\"I corsi della scuola sono:\", corsi_scuola)\n"
   ]
  },
  {
   "cell_type": "code",
   "execution_count": 204,
   "id": "4ebdbd39-5526-4869-9998-24ea9235fcca",
   "metadata": {},
   "outputs": [
    {
     "name": "stdout",
     "output_type": "stream",
     "text": [
      "Gli studenti sono:\n",
      " ['Alex', 'Bob', 'Cindy', 'Dan', 'Emma', 'Faith', 'Grace', 'Henry'] \n",
      "I corsi sono:\n",
      " ['Cybersecurity', 'Data Analyst', 'Backend', 'Frontend', 'Data Analyst', 'Backend'] \n",
      "\n",
      "\n"
     ]
    },
    {
     "name": "stdin",
     "output_type": "stream",
     "text": [
      "La lista dei corsi non è completa, aggiungi il corso (devi aggiungere un corso alla volta): Matematica\n"
     ]
    },
    {
     "name": "stdout",
     "output_type": "stream",
     "text": [
      "Il corso scelto non è erogato dalla scuola. Inserisci un corso valido.\n",
      "\n",
      "I corsi disponibili sono:\n",
      " {'Frontend', 'Web developer', 'Data Analyst', 'Cybersecurity', 'Backend'} \n",
      "\n",
      "Gli studenti sono:\n",
      " ['Alex', 'Bob', 'Cindy', 'Dan', 'Emma', 'Faith', 'Grace', 'Henry'] \n",
      "I corsi sono:\n",
      " ['Cybersecurity', 'Data Analyst', 'Backend', 'Frontend', 'Data Analyst', 'Backend'] \n",
      "\n",
      "\n"
     ]
    },
    {
     "name": "stdin",
     "output_type": "stream",
     "text": [
      "La lista dei corsi non è completa, aggiungi il corso (devi aggiungere un corso alla volta): Frontend\n"
     ]
    },
    {
     "name": "stdout",
     "output_type": "stream",
     "text": [
      "['Cybersecurity', 'Data Analyst', 'Backend', 'Frontend', 'Data Analyst', 'Backend', 'Frontend'] \n",
      "\n",
      "Gli studenti sono:\n",
      " ['Alex', 'Bob', 'Cindy', 'Dan', 'Emma', 'Faith', 'Grace', 'Henry'] \n",
      "I corsi sono:\n",
      " ['Cybersecurity', 'Data Analyst', 'Backend', 'Frontend', 'Data Analyst', 'Backend', 'Frontend'] \n",
      "\n",
      "\n"
     ]
    },
    {
     "name": "stdin",
     "output_type": "stream",
     "text": [
      "La lista dei corsi non è completa, aggiungi il corso (devi aggiungere un corso alla volta): Cybersecurity\n"
     ]
    },
    {
     "name": "stdout",
     "output_type": "stream",
     "text": [
      "['Cybersecurity', 'Data Analyst', 'Backend', 'Frontend', 'Data Analyst', 'Backend', 'Frontend', 'Cybersecurity'] \n",
      "\n",
      "Ogni studente è iscritto al seguente corso.\n",
      "\n",
      "Lo studente: Alex è iscritto al corso di Cybersecurity\n",
      "Lo studente: Bob è iscritto al corso di Data Analyst\n",
      "Lo studente: Cindy è iscritto al corso di Backend\n",
      "Lo studente: Dan è iscritto al corso di Frontend\n",
      "Lo studente: Emma è iscritto al corso di Data Analyst\n",
      "Lo studente: Faith è iscritto al corso di Backend\n",
      "Lo studente: Grace è iscritto al corso di Frontend\n",
      "Lo studente: Henry è iscritto al corso di Cybersecurity\n"
     ]
    }
   ],
   "source": [
    "# Altro metodo inserendo il dato con INPUT\n",
    "studenti = [\"Alex\", \"Bob\", \"Cindy\", \"Dan\", \"Emma\", \"Faith\", \"Grace\", \"Henry\"] \n",
    "corsi = [\"Cybersecurity\", \"Data Analyst\", \"Backend\", \"Frontend\", \"Data Analyst\", \"Backend\"]\n",
    "\n",
    "lunghezza_studenti = int(len(studenti))\n",
    "lunghezza_corsi = int(len(corsi))\n",
    "\n",
    "while lunghezza_corsi < lunghezza_studenti:\n",
    "        print(\"Gli studenti sono:\\n\", studenti,  \"\\nI corsi sono:\\n\", corsi, \"\\n\\n\")\n",
    "        corso_aggiunto = (input(\"La lista dei corsi non è completa, aggiungi il corso (devi aggiungere un corso alla volta):\"))\n",
    "        if corso_aggiunto in corsi_scuola:\n",
    "            corsi.append(corso_aggiunto)\n",
    "            print(corsi,\"\\n\")\n",
    "            lunghezza_corsi += 1\n",
    "        else:\n",
    "            print(\"Il corso scelto non è erogato dalla scuola. Inserisci un corso valido.\")\n",
    "            print(\"\\nI corsi disponibili sono:\\n\", corsi_scuola, \"\\n\")\n",
    "    \n",
    "print(\"Ogni studente è iscritto al seguente corso.\\n\")\n",
    "indice = 0\n",
    "\n",
    "for studente in studenti:\n",
    "    studenti[indice] == corsi[indice]\n",
    "    print(f\"Lo studente: {studenti[indice]} è iscritto al corso di {corsi[indice]}\")\n",
    "    indice +=1\n"
   ]
  },
  {
   "cell_type": "code",
   "execution_count": 261,
   "id": "488a94b9-1f2c-44c0-9295-8c7a08a1caa8",
   "metadata": {},
   "outputs": [
    {
     "name": "stdin",
     "output_type": "stream",
     "text": [
      "Scrivi una parola o frase: bicchiere\n"
     ]
    },
    {
     "name": "stdout",
     "output_type": "stream",
     "text": [
      "L'output è: bic...ere\n"
     ]
    }
   ],
   "source": [
    "# 7. Esercizio Scriviamo un programma che chiede in input all'utente una stringa e visualizza i primi 3 caratteri,\n",
    "#    seguiti da 3 punti di sospensione e quindi gli ultimi 3 caratteri. \n",
    "#    Stavolta facciamo attenzione a tutti i casi particolari, ovvero implementare soluzioni ad hoc per stringhe di lunghezza inferiore a 6 caratteri.\n",
    "\n",
    "stringa = input(\"Scrivi una parola o frase:\")\n",
    "lunghezza = len(stringa)\n",
    "\n",
    "if lunghezza <= 3:    \n",
    "    output = stringa\n",
    "\n",
    "elif lunghezza < 6:         # 5\n",
    "    output = stringa[:3] + \"...\"\n",
    "\n",
    "else:\n",
    "    inizio = stringa[:3]\n",
    "    fine = stringa[-3:]\n",
    "    output = inizio + \"...\" + fine\n",
    "   \n",
    "print(f\"L'output è: {output}\")"
   ]
  },
  {
   "cell_type": "code",
   "execution_count": 374,
   "id": "a1bdc561-4084-48e8-8aee-3498d64605e5",
   "metadata": {},
   "outputs": [
    {
     "name": "stdin",
     "output_type": "stream",
     "text": [
      "Inserisci un numero 150\n"
     ]
    },
    {
     "name": "stdout",
     "output_type": "stream",
     "text": [
      "I fattori primi sono: [2, 3, 5, 5]\n"
     ]
    }
   ],
   "source": [
    "# 8. Memorizza e stampa tutti i fattori di un numero dato in input. Esempio: • input: 150 • output: [2, 3, 5, 5]\n",
    "\n",
    "numero = int(input(\"Inserisci un numero\"))\n",
    "divisore = 2\n",
    "fattori_primi = []\n",
    "\n",
    "\n",
    "while numero > 1:                        # finchè è > da 1, quando < --> esci.\n",
    "    if numero % divisore == 0:           # se il resto della divisione = 0 --> metti nella lista.\n",
    "        fattori_primi.append(divisore)\n",
    "        numero = numero//divisore        # il calcolo del secondo numero deve dare un intero.\n",
    "    else:\n",
    "        divisore += 1                    # se no aumenta il divisore\n",
    "\n",
    "print(\"I fattori primi sono:\", fattori_primi)\n",
    "\n"
   ]
  },
  {
   "cell_type": "raw",
   "id": "8c4a64da-543d-4917-a946-7a2ae000adb9",
   "metadata": {},
   "source": [
    "I FATTORI\n",
    "\n",
    "# 8. Memorizza e stampa tutti i fattori di un numero dato in input. Esempio: • input: 150 • output: [2, 3, 5, 5]\n",
    "\n",
    "numero = 150\n",
    "risultato = 150%\n",
    "\n",
    "150/2 = 75    ok     = 0 != ==\n",
    "75 / 2 = 37,5  NO\n",
    "75 / 3= 25   OK\n",
    "25 / 3 = 8,333 NO\n",
    "25 / 4 = 6,25 NO\n",
    "25 / 5 = 5 OK\n",
    "5/5 = 1 OK\n",
    "\n",
    "2*3*5*5=150 \n",
    "\n",
    "\n"
   ]
  },
  {
   "cell_type": "code",
   "execution_count": 377,
   "id": "91ea8d4a-00d1-4e98-839e-2316d5500ca2",
   "metadata": {},
   "outputs": [
    {
     "name": "stdout",
     "output_type": "stream",
     "text": [
      "- E\n",
      "- p\n",
      "- i\n",
      "- c\n",
      "- o\n",
      "- d\n",
      "- e\n"
     ]
    }
   ],
   "source": [
    "# 9. Abbiamo la stringa: Stampare ogni carattere della stringa, uno su ogni riga, utilizzando un costrutto FOR.\n",
    "nome_scuola = \"Epicode\" \n",
    "\n",
    "for carattere in nome_scuola:\n",
    "    print(\"-\", carattere)"
   ]
  },
  {
   "cell_type": "code",
   "execution_count": 383,
   "id": "8edf314f-9a35-4a48-8f8a-074aa7f0f15c",
   "metadata": {},
   "outputs": [
    {
     "name": "stdout",
     "output_type": "stream",
     "text": [
      "2\n",
      "4\n",
      "8\n",
      "16\n",
      "32\n",
      "64\n",
      "128\n",
      "256\n",
      "512\n",
      "1024\n",
      "Gli esponenti sono: [1, 2, 3, 4, 5, 6, 7, 8, 9, 10]\n"
     ]
    }
   ],
   "source": [
    "# 10. Calcolare e stampare tutte le prime 10 potenze di 2 utilizzando un ciclo. Utilizzeremo: • un ciclo per generare i primi 10 numeri, e.g.:\n",
    "\n",
    "range_numerico = list()\n",
    "num = 1           #esponente\n",
    "numero = 2\n",
    "\n",
    "while num <= 10: \n",
    "    range_numerico.append(num) \n",
    "    numero_elevato = numero**num\n",
    "    print(numero_elevato)\n",
    "    num += 1\n",
    "\n",
    "print(\"Gli esponenti sono:\", range_numerico)"
   ]
  },
  {
   "cell_type": "code",
   "execution_count": 399,
   "id": "e89b2e0b-911a-4ae4-b88f-0b1096ef8236",
   "metadata": {},
   "outputs": [
    {
     "name": "stdin",
     "output_type": "stream",
     "text": [
      "Inserisci N: 10\n",
      "Inserisci K: 2\n"
     ]
    },
    {
     "name": "stdout",
     "output_type": "stream",
     "text": [
      "[2, 4, 8, 16, 32, 64, 128, 256, 512, 1024]\n"
     ]
    }
   ],
   "source": [
    "# 11. Calcolare (ma non stampare) le prime N potenze di K; ognuna di esse andrà memorizzata in coda a una lista. Alla fine, stampare la lista risultante. \n",
    "#     Proviamo con diversi valori di K, oppure facciamola inserire all'utente. Realizzare due versioni: • con un ciclo while.\n",
    "\n",
    "N = int(input(\"Inserisci N:\"))    # potenze = risultato\n",
    "K = int(input(\"Inserisci K:\"))    # n°\n",
    "esponente = 1\n",
    "lista_potenze = []\n",
    "        \n",
    "while esponente <= N:  # condizione\n",
    "    potenza = K ** esponente\n",
    "    lista_potenze.append(potenza)\n",
    "    esponente += 1  # aggiornamento\n",
    "    \n",
    "print(lista_potenze)\n"
   ]
  },
  {
   "cell_type": "code",
   "execution_count": 419,
   "id": "d093845f-d02b-4704-8f45-c7c26ecffbf9",
   "metadata": {},
   "outputs": [
    {
     "name": "stdin",
     "output_type": "stream",
     "text": [
      "Inserisci N: 10\n",
      "Inserisci K: 2\n"
     ]
    },
    {
     "name": "stdout",
     "output_type": "stream",
     "text": [
      "\n",
      "\n",
      "La potenza di 2^0 è: 1\n",
      "La potenza di 2^1 è: 2\n",
      "La potenza di 2^2 è: 4\n",
      "La potenza di 2^3 è: 8\n",
      "La potenza di 2^4 è: 16\n",
      "La potenza di 2^5 è: 32\n",
      "La potenza di 2^6 è: 64\n",
      "La potenza di 2^7 è: 128\n",
      "La potenza di 2^8 è: 256\n",
      "La potenza di 2^9 è: 512\n",
      "La potenza di 2^10 è: 1024\n",
      "\n",
      "Le potenze sono: [1, 2, 4, 8, 16, 32, 64, 128, 256, 512, 1024]\n"
     ]
    }
   ],
   "source": [
    "#   Ora con un ciclo FOR.\n",
    "\n",
    "N = int(input(\"Inserisci N:\"))    # potenze = risultato\n",
    "K = int(input(\"Inserisci K:\"))    # n°\n",
    "# non mi serve sapere Esponente, perchè 'vive' in N e parte da 0.\n",
    "\n",
    "lista_potenze_2 = []\n",
    "\n",
    "print(\"\\n\")\n",
    "for esponente in range(N+1):       # non posso usare le [] --> però posso aumentarlo di 1.\n",
    "    potenza = K ** esponente\n",
    "    lista_potenze_2.append(potenza)\n",
    "    print(f\"La potenza di {K}^{esponente} è: {potenza}\")\n",
    "\n",
    "print(\"\\nLe potenze sono:\", lista_potenze_2)"
   ]
  },
  {
   "cell_type": "code",
   "execution_count": 450,
   "id": "37cf4a80-0558-43ea-9ecf-15e8454226a3",
   "metadata": {},
   "outputs": [
    {
     "name": "stdout",
     "output_type": "stream",
     "text": [
      "\n",
      "La media annuale è di: 70.0\n"
     ]
    }
   ],
   "source": [
    "# 12. Abbiamo una lista con i guadagni degli ultimi 12 mesi: usando un costrutto FOR, calcolare la media dei guadagni e stamparla a video.\n",
    "guadagni = [100, 90, 70, 40, 50, 80, 90, 120, 80, 20, 50, 50] \n",
    "\n",
    "somma_guadagno = 0\n",
    "\n",
    "for guadagno in guadagni:\n",
    "    somma_guadagno += guadagno\n",
    "media_annuale = somma_guadagno / 12\n",
    "print(\"\\nLa media annuale è di:\", media_annuale)"
   ]
  },
  {
   "cell_type": "code",
   "execution_count": 439,
   "id": "08059e27-8f47-4df2-b388-7af4db7d4102",
   "metadata": {},
   "outputs": [
    {
     "name": "stdout",
     "output_type": "stream",
     "text": [
      "Albergo\n",
      "Sedia\n",
      "Petalo\n",
      "Eremo\n",
      "Belvedere\n",
      "Semestre\n",
      "Esteta\n",
      "Orpello\n",
      "Abete\n",
      "Cesta\n",
      "Ermellino\n",
      "\n",
      "\n",
      "Nella parola Albergo sono presenti 1 'e'\n",
      "Nella parola Sedia sono presenti 1 'e'\n",
      "Nella parola Borgo sono presenti 0 'e'\n",
      "Nella parola Petalo sono presenti 1 'e'\n",
      "Nella parola Eremo sono presenti 2 'e'\n",
      "Nella parola Belvedere sono presenti 4 'e'\n",
      "Nella parola Semestre sono presenti 3 'e'\n",
      "Nella parola Esteta sono presenti 2 'e'\n",
      "Nella parola Sosta sono presenti 0 'e'\n",
      "Nella parola Orpello sono presenti 1 'e'\n",
      "Nella parola Abete sono presenti 2 'e'\n",
      "Nella parola Orologio sono presenti 0 'e'\n",
      "Nella parola Cesta sono presenti 1 'e'\n",
      "Nella parola Ermellino sono presenti 2 'e'\n"
     ]
    }
   ],
   "source": [
    "# 13.  lista di parole: stampiamo, per ogni parola, quante volte appare la lettera \"e\"; facciamo attenzione al fatto che appare sia maiuscola che minuscola. \n",
    "\n",
    "parole = [\"Albergo\", \"Sedia\", \"Borgo\", \"Petalo\", \"Eremo\", \"Belvedere\", \"Semestre\", \"Esteta\", \"Sosta\", \"Orpello\", \"Abete\", \"Orologio\", \"Cesta\", \"Ermellino\"] \n",
    "\n",
    "\n",
    "for parola in parole:\n",
    "    if \"E\" in parola or \"e\" in parola:\n",
    "        print(parola)\n",
    "print(\"\\n\")\n",
    "for parola in parole:\n",
    "    print(f\"Nella parola {parola} sono presenti {parola.lower().count(\"e\")} 'e'\")\n"
   ]
  },
  {
   "cell_type": "code",
   "execution_count": 463,
   "id": "3a9060fe-71bd-4a96-8d99-e73148950b93",
   "metadata": {},
   "outputs": [
    {
     "name": "stdout",
     "output_type": "stream",
     "text": [
      "{'Ada': 'Punto', 'Ben': 'Multipla', 'Charlie': 'Golf', 'Debbie': '107'}\n",
      "107\n",
      "Punto\n",
      "Golf\n",
      "107\n",
      "A1\n",
      "dict_values(['Punto', 'Multipla', 'Golf', '107', 'A1'])\n",
      "\n",
      "Proprietari e auto:\n",
      "Il proprietario dell'auto Punto è Ada\n",
      "Il proprietario dell'auto Golf è Charlie\n",
      "Il proprietario dell'auto 107 è Debbie\n",
      "Il proprietario dell'auto A1 è Emily\n"
     ]
    }
   ],
   "source": [
    "# 14. Dizionari\n",
    "\n",
    "dizionario_auto = {\"Ada\": \"Punto\", \"Ben\": \"Multipla\", \"Charlie\": \"Golf\", \"Debbie\": \"107\"}\n",
    "print(dizionario_auto)\n",
    "\n",
    "print(dizionario_auto[\"Debbie\"])\n",
    "\n",
    "# Con un ciclo, e usando il metodo .values(), stampiamo a video tutte le auto che non sono una Multipla.\n",
    "\n",
    "proprietari_auto = {\"Ada\": \"Punto\", \"Ben\": \"Multipla\", \"Charlie\": \"Golf\", \"Debbie\": \"107\", \"Emily\":\"A1\"}\n",
    "list( proprietari_auto.values() )        # CASTING (trasforma in Lista il Dizionario, se non gli assegno un nome come variabile, è momentaneo).\n",
    "\n",
    "for auto in proprietari_auto.values():   # tiene solo i 'valori' del Dizionario.   \n",
    "    if auto != \"Multipla\":\n",
    "        print(auto)\n",
    "print(proprietari_auto.values())         # tutti i valori dal Dizionario (dict). --> se lo voglio come Lista, devo rifare il CASTING e assegnargli un nome variabile.\n",
    "\n",
    "print(\"\\nProprietari e auto:\")\n",
    "for chiave, valore in proprietari_auto.items():    # posso inserire i 2 parametri (chiave, valore) con il metodo .items()\n",
    "    if valore != \"Multipla\":\n",
    "        print(f\"Il proprietario dell'auto {valore} è {chiave}\")\n"
   ]
  },
  {
   "cell_type": "code",
   "execution_count": 362,
   "id": "862dc90f-2ddb-4a1b-af3e-bf3638b7bba4",
   "metadata": {},
   "outputs": [
    {
     "name": "stdout",
     "output_type": "stream",
     "text": [
      "{'Ada': 'Punto', 'Ben': 'Polo', 'Charlie': 'Golf', 'Debbie': '107', 'Emily': 'A1', 'Fred': 'Octavia', 'Grace': 'Yaris', 'Hugh': 'Clio'}\n"
     ]
    }
   ],
   "source": [
    "# 15. Due dizionari - con aggiornamento\n",
    "\n",
    "proprietari_auto = {\"Ada\": \"Punto\", \"Ben\": \"Multipla\", \"Charlie\": \"Golf\", \"Debbie\": \"107\", \"Emily\":\"A1\"}\n",
    "\n",
    "\n",
    "nuovi_propietari = {\"Ben\": \"Polo\", \"Fred\": \"Octavia\", \"Grace\": \"Yaris\", \"Hugh\": \"Clio\"}\n",
    "\n",
    "proprietari_auto.update(nuovi_propietari)    # aggiunge, o sovrascrive in base alla chiave.\n",
    "print(proprietari_auto)"
   ]
  },
  {
   "cell_type": "code",
   "execution_count": 299,
   "id": "fffaf397-57ac-4838-91ba-03f138b518b8",
   "metadata": {},
   "outputs": [
    {
     "name": "stdout",
     "output_type": "stream",
     "text": [
      "Il minimo è -4 e il massimo è 500\n"
     ]
    }
   ],
   "source": [
    "# 16. Scrivere un programma che, data una lista di numeri, fornisca in output il minimo e il massimo (possiamo usare o meno le funzioni built-in min() e max()).\n",
    "\n",
    "dati = [2, 5, 8, 10, 500, 20, -4]\n",
    "\n",
    "minimo = min(dati)\n",
    "massimo = max(dati)\n",
    "print(f\"Il minimo è {minimo} e il massimo è {massimo}\")"
   ]
  },
  {
   "cell_type": "code",
   "execution_count": 324,
   "id": "cf02464f-f67c-4edd-ae8a-e0c4ce56dd10",
   "metadata": {},
   "outputs": [
    {
     "name": "stdout",
     "output_type": "stream",
     "text": [
      "[100, 105, 500]\n",
      "I tre numeri più grandi sono: [100, 105, 500]\n"
     ]
    }
   ],
   "source": [
    "# oppure\n",
    "\n",
    "altri_dati = [2, 5, 8, 10, 500, 20, -4, 25, 60, 100, 105]\n",
    "\n",
    "altri_dati.sort()  # ordinati in ordine crescente (con Reverse=True --> decrescente)\n",
    "tre_massimi = altri_dati[-3:]\n",
    "print(tre_massimi)\n",
    "\n",
    "# oppure\n",
    "\n",
    "if len(altri_dati) > 3:\n",
    "    altri_dati.sort()\n",
    "    tre_massimi = altri_dati[-3:]\n",
    "    print(\"I tre numeri più grandi sono:\", tre_massimi)\n",
    "\n",
    "else:\n",
    "    print(\"Ci sono meno di 3 valori\")\n",
    "    print(\"I numeri più grandi sono:\", dati)\n",
    "    "
   ]
  },
  {
   "cell_type": "code",
   "execution_count": 479,
   "id": "328035b0-9b40-4c93-8881-6a84540d3a93",
   "metadata": {},
   "outputs": [
    {
     "name": "stdin",
     "output_type": "stream",
     "text": [
      "Inserisci i numeri che vuoi nella lista separati da uno spazio : 24 35 16 35\n",
      "Inserisci il numero che vuoi controllare insieme alla lista : 23\n"
     ]
    },
    {
     "name": "stdout",
     "output_type": "stream",
     "text": [
      "La media della lista è maggiore o uguale al numero da te inserito\n"
     ]
    }
   ],
   "source": [
    "# 17. Scrivere un programma che • in input acquisisce una lista di numeri e un numero K \n",
    "#   • in output, dovrà restituire la media di tutti i numeri nella lista maggiori o uguali a K \n",
    "#   • se non ce ne dovesse essere nessuno, dovrà stampare a schermo un messaggio adeguato.\n",
    "\n",
    "\n",
    "lista = input(\"Inserisci i numeri che vuoi nella lista separati da uno spazio :\").split()   # stringa\n",
    "K = int(input(\"Inserisci il numero che vuoi controllare insieme alla lista :\"))\n",
    "\n",
    "lista_numero = [int(numero) for numero in lista]   # trasformi le stringhe in numeri e si inseriscono in una lista\n",
    "\n",
    "conteggio = sum(lista_numero)  # somma tutti gli elementi\n",
    "numero = len(lista_numero)     # conta cuanti sono gli elementi\n",
    "\n",
    "media = conteggio/numero\n",
    "\n",
    "if media >= K:\n",
    "    print(\"La media della lista è maggiore o uguale al numero da te inserito\")\n",
    "else:\n",
    "    print(\"La media della lista è minore al numero da te inserito\")"
   ]
  },
  {
   "cell_type": "code",
   "execution_count": 482,
   "id": "37a71ef6-0c11-43c9-9ada-4efeaa4db8d3",
   "metadata": {},
   "outputs": [
    {
     "name": "stdout",
     "output_type": "stream",
     "text": [
      "*****\n",
      "**\n",
      "***\n",
      "****\n"
     ]
    }
   ],
   "source": [
    "# 20. Scrivere un programma che, data una lista di numeri, come output stamperà lo stesso numero di asterischi su righe diverse, \n",
    "#  ottenendo una semplice visualizzazione grafica Esempio, supponendo di avere il seguente input:\n",
    "numeri = [5, 2, 3, 4]\n",
    "\n",
    "for numero in numeri:\n",
    "    print(\"*\" * numero)     # il primo è un carattere, e il secondo è un operartore \n",
    "\n"
   ]
  },
  {
   "cell_type": "code",
   "execution_count": 340,
   "id": "68aa066b-af75-4601-8e05-89e981772e8b",
   "metadata": {},
   "outputs": [
    {
     "name": "stdout",
     "output_type": "stream",
     "text": [
      "ABCDEF95G01A123B\n",
      "STUVWX95Z04A654E\n",
      "DEFGHI95J06A987G\n",
      "['ABCDEF95G01A123B', 'STUVWX95Z04A654E', 'DEFGHI95J06A987G']\n",
      "\n",
      "I nomi e cognomi dei CF del '95 sono:\n",
      "Nome: ABC\n",
      "Cognome: DEF\n",
      "Nome: STU\n",
      "Cognome: VWX\n",
      "Nome: DEF\n",
      "Cognome: GHI\n",
      "ABCDEF95G01A123B\n"
     ]
    }
   ],
   "source": [
    "# lista di codici fiscali:\n",
    "lista_cf = [\"ABCDEF95G01A123B\", \"GHIJKL91M02A321C\", \"MNOPQR89S03A456D\", \"STUVWX95Z04A654E\", \"XYZABC01D05A789F\", \"DEFGHI95J06A987G\"]\n",
    "\n",
    "lista_cf_95=[]\n",
    "\n",
    "for cf in lista_cf:\n",
    "    if \"95\" in cf:\n",
    "        print(cf)\n",
    "        lista_cf_95.append(cf)\n",
    "       \n",
    "print(lista_cf_95)\n",
    "\n",
    "print(\"\\nI nomi e cognomi dei CF del '95 sono:\")\n",
    "for cf in lista_cf_95:\n",
    "    print(\"Nome:\", cf[:3])\n",
    "    print(\"Cognome:\", cf[3:6])\n",
    "\n",
    "for cf in lista_cf:\n",
    "    if (\"95\" in cf) and (\"ABC\" in cf) or (\"81\" in cf):     # tra parentesi () se cerco qualcosa dentro una collezione.\n",
    "        print(cf)\n"
   ]
  },
  {
   "cell_type": "code",
   "execution_count": 509,
   "id": "5a73eb13-2b5c-4691-a51a-10c38d80a879",
   "metadata": {},
   "outputs": [
    {
     "name": "stdout",
     "output_type": "stream",
     "text": [
      "Alex\n",
      "Faith\n"
     ]
    },
    {
     "data": {
      "text/plain": [
       "range(0, 8)"
      ]
     },
     "execution_count": 509,
     "metadata": {},
     "output_type": "execute_result"
    }
   ],
   "source": [
    "# 21. Abbiamo tre liste della stessa lunghezza, dove ogni elemento nella medesima posizione si riferisce ai dati dello stesso studente:\n",
    "#  Stampare a video tutti e soli gli studenti che frequentano una prima edizione; non tutti i dati potrebbero essere necessari. \n",
    "#  • Riuscite a vedere una similarità con la logica che si usa in SQL e le tabelle relazionali?\n",
    "\n",
    "studenti = [\"Alex\", \"Bob\", \"Cindy\", \"Dan\", \"Emma\", \"Faith\", \"Grace\", \"Henry\"]\n",
    "corsi = [\"Cybersecurity\", \"Data Analyst\", \"Backend\", \"Frontend\", \"Data Analyst\", \"Backend\", \"Frontend\", \"Cybersecurity\"]  # non mi servirà\n",
    "edizioni = [1, 2, 3, 2, 2, 1, 3, 3]\n",
    "\n",
    "# range(len(studenti))     # range --> crea una lista di numeri.\n",
    "\n",
    "for indice in range(len(studenti)):\n",
    "    studente = studenti[indice]\n",
    "    edizione = edizioni[indice]\n",
    "    if edizione == 1:\n",
    "        print(studente)\n",
    "\n",
    "range(len(studenti))     # range(0,8)\n"
   ]
  },
  {
   "cell_type": "code",
   "execution_count": 344,
   "id": "91aac640-131d-4ff8-a99f-35c9c4b8eff1",
   "metadata": {},
   "outputs": [
    {
     "name": "stdout",
     "output_type": "stream",
     "text": [
      "['100 $', '200 $', '500 $', '10 $', '50 $', '70 $']\n"
     ]
    }
   ],
   "source": [
    "# 22. Abbiamo una lista di stringhe di prezzi in dollari, che erroneamente sono stati scritti con il simbolo dell'euro:\n",
    "#  cambiare il simbolo dell'euro (€) in quello del dollaro ($) per ogni stringa nella lista; il risultato sarà memorizzato in un'altra lista.\n",
    "\n",
    "prezzi = [\"100 €\", \"200 €\", \"500 €\", \"10 €\", \"50 €\", \"70 €\"]\n",
    "\n",
    "prezzi_corretti = []\n",
    "\n",
    "for prezzo in prezzi:\n",
    "    prezzo_corretto = prezzo.replace(\"€\", \"$\")\n",
    "    prezzi_corretti.append(prezzo_corretto)\n",
    "\n",
    "print(prezzi_corretti)\n"
   ]
  },
  {
   "cell_type": "code",
   "execution_count": 348,
   "id": "5efb2196-02e2-4c30-9a5f-c118ea5645e3",
   "metadata": {},
   "outputs": [
    {
     "name": "stdout",
     "output_type": "stream",
     "text": [
      "['100 $', '200 $', '500 $', '10 $', '50 $', '70 $']\n"
     ]
    }
   ],
   "source": [
    "# oppure\n",
    "\n",
    "prezzi = [\"100 €\", \"200 €\", \"500 €\", \"10 €\", \"50 €\", \"70 €\"]\n",
    "\n",
    "prezzi_corretti=[prezzo.replace(\"€\", \"$\") for prezzo in prezzi]\n",
    "print(prezzi_corretti)"
   ]
  },
  {
   "cell_type": "code",
   "execution_count": 491,
   "id": "5464c631-d288-4a14-99eb-a9a92785fbbb",
   "metadata": {},
   "outputs": [
    {
     "name": "stdout",
     "output_type": "stream",
     "text": [
      "La squadra pari sarà formata da: ['Alex', 'Emma', 'Isabelle', 'John']\n",
      "La squadra pari sarà formata da: ['Bob', 'Cindy', 'Dan', 'Faith', 'Grace', 'Henry']\n"
     ]
    }
   ],
   "source": [
    "# 23. vogliamo dividere gli studenti in due squadre per un campionato di Uno nel seguente modo: \n",
    "#     selezioneremo i nomi con lunghezza pari per una squadra, e i nomi con lunghezza dispari per l'altra. \n",
    "#     Creiamo due liste per ogni squadra, e alla fine visualizziamole.\n",
    "\n",
    "studenti = [\"Alex\", \"Bob\", \"Cindy\", \"Dan\", \"Emma\", \"Faith\", \"Grace\", \"Henry\", \"Isabelle\", \"John\"]\n",
    "squadra_pari=[]\n",
    "squadra_dispari=[]\n",
    "\n",
    "for studente in studenti:\n",
    "    if len(studente) %2 == 0:\n",
    "       squadra_pari.append(studente)\n",
    "    else:\n",
    "       squadra_dispari.append(studente)\n",
    "\n",
    "print(\"La squadra pari sarà formata da:\", squadra_pari)\n",
    "print(\"La squadra pari sarà formata da:\", squadra_dispari)\n"
   ]
  },
  {
   "cell_type": "code",
   "execution_count": 499,
   "id": "d5c619a4-4d75-41bf-a0e5-afae0b5d3172",
   "metadata": {},
   "outputs": [
    {
     "name": "stdout",
     "output_type": "stream",
     "text": [
      "['Alex', 'Cindy', 'Emma', 'Grace', 'Isabelle']\n",
      "['Bob', 'Dan', 'Faith', 'Henry', 'John']\n"
     ]
    }
   ],
   "source": [
    "#    dividere in squadre: una con gli studenti in posizione pari e l'altra con quelli in posizione dispari.\n",
    "\n",
    "squadra_pari_2 = studenti[::2]\n",
    "squadra_dispari_2 = studenti[1::2]\n",
    "\n",
    "print(squadra_pari_2)\n",
    "print(squadra_dispari_2)"
   ]
  },
  {
   "cell_type": "code",
   "execution_count": 493,
   "id": "dab6f8a9-a75c-4c07-9166-ae22bd5cd284",
   "metadata": {},
   "outputs": [
    {
     "name": "stdout",
     "output_type": "stream",
     "text": [
      "Mese 1 : 100 €, il guadagno attuale è maggiore della media: 0\n",
      "Mese 2 : 90 , il guadagno attuale è minore della media: 100.0\n",
      "Mese 3 : 70 , il guadagno attuale è minore della media: 95.0\n",
      "Mese 4 : 40 , il guadagno attuale è minore della media: 86.67\n",
      "Mese 5 : 50 , il guadagno attuale è minore della media: 75.0\n",
      "Mese 6 : 80 €, il guadagno attuale è maggiore della media: 70.0\n",
      "Mese 7 : 90 €, il guadagno attuale è maggiore della media: 71.67\n",
      "Mese 8 : 120 €, il guadagno attuale è maggiore della media: 74.29\n",
      "Mese 9 : 80 , il guadagno attuale è minore della media: 80.0\n",
      "Mese 10 : 20 , il guadagno attuale è minore della media: 80.0\n",
      "Mese 11 : 50 , il guadagno attuale è minore della media: 74.0\n",
      "Mese 12 : 50 , il guadagno attuale è minore della media: 71.82\n"
     ]
    }
   ],
   "source": [
    "# 24. Abbiamo una lista con i guadagni degli ultimi 12 mesi (supponiamo da Gennaio a Dicembre): \n",
    "#    dobbiamo confrontare, stampando tutto a video, il guadagno di ogni mese con la media dei guadagni precedenti, \n",
    "#    e specificare nell'output se il guadagno attuale è maggiore o minore della media dei precedenti.\n",
    "\n",
    "media = 0\n",
    "mese = 0\n",
    "somma_guadagni = 0\n",
    "\n",
    "for guadagno in guadagni:\n",
    "    if guadagno > media:\n",
    "        mese += 1\n",
    "        somma_guadagni += guadagno                 # 100\n",
    "        print(\"Mese\", mese ,\":\", guadagno,\"€, il guadagno attuale è maggiore della media:\",media)\n",
    "        media =  round(somma_guadagni/mese,2)      # 100/1\n",
    "\n",
    "    else:\n",
    "        mese +=1\n",
    "        somma_guadagni+=guadagno                   # 190\n",
    "        print(\"Mese\", mese, \":\", guadagno,\", il guadagno attuale è minore della media:\", media)\n",
    "        media=  round(somma_guadagni/mese,2)       # 190/2 = 95\n"
   ]
  },
  {
   "cell_type": "code",
   "execution_count": null,
   "id": "ea2842c1-b4e6-4f3f-ab24-86ab6adb9c54",
   "metadata": {},
   "outputs": [],
   "source": []
  }
 ],
 "metadata": {
  "kernelspec": {
   "display_name": "Python [conda env:base] *",
   "language": "python",
   "name": "conda-base-py"
  },
  "language_info": {
   "codemirror_mode": {
    "name": "ipython",
    "version": 3
   },
   "file_extension": ".py",
   "mimetype": "text/x-python",
   "name": "python",
   "nbconvert_exporter": "python",
   "pygments_lexer": "ipython3",
   "version": "3.12.7"
  }
 },
 "nbformat": 4,
 "nbformat_minor": 5
}
